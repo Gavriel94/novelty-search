{
 "cells": [
  {
   "cell_type": "code",
   "execution_count": 1,
   "metadata": {},
   "outputs": [],
   "source": [
    "from agents.hunter import Hunter\n",
    "from agents.forager import Forager\n",
    "\n",
    "hunter = Hunter('h1', 2.0, 3, 3, 3, 3, 3)\n",
    "forager = Forager('f1', 3.0, 3, 3, 3, 3, 3, 'M')"
   ]
  }
 ],
 "metadata": {
  "kernelspec": {
   "display_name": "as_venv",
   "language": "python",
   "name": "python3"
  },
  "language_info": {
   "codemirror_mode": {
    "name": "ipython",
    "version": 3
   },
   "file_extension": ".py",
   "mimetype": "text/x-python",
   "name": "python",
   "nbconvert_exporter": "python",
   "pygments_lexer": "ipython3",
   "version": "3.11.3"
  }
 },
 "nbformat": 4,
 "nbformat_minor": 2
}
